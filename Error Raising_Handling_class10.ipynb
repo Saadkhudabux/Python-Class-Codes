{
 "cells": [
  {
   "cell_type": "markdown",
   "id": "82195fad",
   "metadata": {},
   "source": [
    "# Error Handling "
   ]
  },
  {
   "cell_type": "markdown",
   "id": "bb78ff75",
   "metadata": {},
   "source": [
    "# Index Error"
   ]
  },
  {
   "cell_type": "code",
   "execution_count": 14,
   "id": "acae365e",
   "metadata": {},
   "outputs": [
    {
     "ename": "IndexError",
     "evalue": "tuple index out of range",
     "output_type": "error",
     "traceback": [
      "\u001b[1;31m---------------------------------------------------------------------------\u001b[0m",
      "\u001b[1;31mIndexError\u001b[0m                                Traceback (most recent call last)",
      "Input \u001b[1;32mIn [14]\u001b[0m, in \u001b[0;36m<cell line: 2>\u001b[1;34m()\u001b[0m\n\u001b[0;32m      1\u001b[0m a\u001b[38;5;241m=\u001b[39m(\u001b[38;5;241m1\u001b[39m,\u001b[38;5;241m4\u001b[39m,\u001b[38;5;241m7\u001b[39m,\u001b[38;5;241m6\u001b[39m,\u001b[38;5;241m5\u001b[39m)\n\u001b[1;32m----> 2\u001b[0m \u001b[43ma\u001b[49m\u001b[43m[\u001b[49m\u001b[38;5;241;43m8\u001b[39;49m\u001b[43m]\u001b[49m\n",
      "\u001b[1;31mIndexError\u001b[0m: tuple index out of range"
     ]
    }
   ],
   "source": [
    "a=(1,4,7,6,5)\n",
    "a[8]"
   ]
  },
  {
   "cell_type": "code",
   "execution_count": 15,
   "id": "b523b082",
   "metadata": {},
   "outputs": [
    {
     "data": {
      "text/plain": [
       "2"
      ]
     },
     "execution_count": 15,
     "metadata": {},
     "output_type": "execute_result"
    }
   ],
   "source": [
    "b=(6,4,3,2)\n",
    "b[3]"
   ]
  },
  {
   "cell_type": "code",
   "execution_count": 16,
   "id": "9b3f9a20",
   "metadata": {},
   "outputs": [
    {
     "data": {
      "text/plain": [
       "'l'"
      ]
     },
     "execution_count": 16,
     "metadata": {},
     "output_type": "execute_result"
    }
   ],
   "source": [
    "c=(\"Hello\")\n",
    "c[3]"
   ]
  },
  {
   "cell_type": "code",
   "execution_count": 17,
   "id": "e99b1f9a",
   "metadata": {},
   "outputs": [
    {
     "ename": "IndexError",
     "evalue": "string index out of range",
     "output_type": "error",
     "traceback": [
      "\u001b[1;31m---------------------------------------------------------------------------\u001b[0m",
      "\u001b[1;31mIndexError\u001b[0m                                Traceback (most recent call last)",
      "Input \u001b[1;32mIn [17]\u001b[0m, in \u001b[0;36m<cell line: 1>\u001b[1;34m()\u001b[0m\n\u001b[1;32m----> 1\u001b[0m \u001b[43mc\u001b[49m\u001b[43m[\u001b[49m\u001b[38;5;241;43m9\u001b[39;49m\u001b[43m]\u001b[49m\n",
      "\u001b[1;31mIndexError\u001b[0m: string index out of range"
     ]
    }
   ],
   "source": [
    "c[9]"
   ]
  },
  {
   "cell_type": "code",
   "execution_count": 18,
   "id": "f952000f",
   "metadata": {},
   "outputs": [
    {
     "data": {
      "text/plain": [
       "'Hello'"
      ]
     },
     "execution_count": 18,
     "metadata": {},
     "output_type": "execute_result"
    }
   ],
   "source": [
    "c[0:6]"
   ]
  },
  {
   "cell_type": "markdown",
   "id": "f9808eb9",
   "metadata": {},
   "source": [
    "# Wrong logic Error"
   ]
  },
  {
   "cell_type": "code",
   "execution_count": 19,
   "id": "7c1b03fc",
   "metadata": {},
   "outputs": [
    {
     "name": "stdout",
     "output_type": "stream",
     "text": [
      "84\n"
     ]
    }
   ],
   "source": [
    "def all_sum(a,b):\n",
    "    print(b+b) #wrong logic, we'll solve it by testing\n",
    "    \n",
    "all_sum(23,42)"
   ]
  },
  {
   "cell_type": "code",
   "execution_count": 20,
   "id": "3db565aa",
   "metadata": {},
   "outputs": [
    {
     "name": "stdout",
     "output_type": "stream",
     "text": [
      "10\n"
     ]
    }
   ],
   "source": [
    "def all_sum(w,x):\n",
    "    print(w-x) \n",
    "    \n",
    "all_sum(22,12)"
   ]
  },
  {
   "cell_type": "code",
   "execution_count": 21,
   "id": "b9d4f2cc",
   "metadata": {},
   "outputs": [
    {
     "data": {
      "text/plain": [
       "359370"
      ]
     },
     "execution_count": 21,
     "metadata": {},
     "output_type": "execute_result"
    }
   ],
   "source": [
    "10*33**3"
   ]
  },
  {
   "cell_type": "markdown",
   "id": "ead2cfa9",
   "metadata": {},
   "source": [
    "# Name error/undefined subject error"
   ]
  },
  {
   "cell_type": "code",
   "execution_count": 23,
   "id": "e82c08f4",
   "metadata": {},
   "outputs": [
    {
     "name": "stdout",
     "output_type": "stream",
     "text": [
      "Hello\n",
      "world\n",
      "hope\n",
      "you're Great\n"
     ]
    },
    {
     "ename": "NameError",
     "evalue": "name 'summary' is not defined",
     "output_type": "error",
     "traceback": [
      "\u001b[1;31m---------------------------------------------------------------------------\u001b[0m",
      "\u001b[1;31mNameError\u001b[0m                                 Traceback (most recent call last)",
      "Input \u001b[1;32mIn [23]\u001b[0m, in \u001b[0;36m<cell line: 5>\u001b[1;34m()\u001b[0m\n\u001b[0;32m      3\u001b[0m \u001b[38;5;28mprint\u001b[39m(\u001b[38;5;124m\"\u001b[39m\u001b[38;5;124mhope\u001b[39m\u001b[38;5;124m\"\u001b[39m)\n\u001b[0;32m      4\u001b[0m \u001b[38;5;28mprint\u001b[39m(\u001b[38;5;124m\"\u001b[39m\u001b[38;5;124myou\u001b[39m\u001b[38;5;124m'\u001b[39m\u001b[38;5;124mre Great\u001b[39m\u001b[38;5;124m\"\u001b[39m)\n\u001b[1;32m----> 5\u001b[0m \u001b[38;5;28mprint\u001b[39m(\u001b[43msummary\u001b[49m)\n",
      "\u001b[1;31mNameError\u001b[0m: name 'summary' is not defined"
     ]
    }
   ],
   "source": [
    "print(\"Hello\")\n",
    "print(\"world\")\n",
    "print(\"hope\")\n",
    "print(\"you're Great\")\n",
    "print(summary)"
   ]
  },
  {
   "cell_type": "markdown",
   "id": "e2fade03",
   "metadata": {},
   "source": [
    "# Zero division Error"
   ]
  },
  {
   "cell_type": "code",
   "execution_count": 24,
   "id": "1eb404b8",
   "metadata": {},
   "outputs": [
    {
     "ename": "ZeroDivisionError",
     "evalue": "division by zero",
     "output_type": "error",
     "traceback": [
      "\u001b[1;31m---------------------------------------------------------------------------\u001b[0m",
      "\u001b[1;31mZeroDivisionError\u001b[0m                         Traceback (most recent call last)",
      "Input \u001b[1;32mIn [24]\u001b[0m, in \u001b[0;36m<cell line: 3>\u001b[1;34m()\u001b[0m\n\u001b[0;32m      1\u001b[0m a\u001b[38;5;241m=\u001b[39m \u001b[38;5;241m99\u001b[39m\n\u001b[0;32m      2\u001b[0m b\u001b[38;5;241m=\u001b[39m \u001b[38;5;241m0\u001b[39m\n\u001b[1;32m----> 3\u001b[0m \u001b[38;5;28mprint\u001b[39m(\u001b[43ma\u001b[49m\u001b[38;5;241;43m/\u001b[39;49m\u001b[43mb\u001b[49m)\n",
      "\u001b[1;31mZeroDivisionError\u001b[0m: division by zero"
     ]
    }
   ],
   "source": [
    "a= 99\n",
    "b= 0\n",
    "print(a/b)"
   ]
  },
  {
   "cell_type": "code",
   "execution_count": 25,
   "id": "1334966d",
   "metadata": {},
   "outputs": [
    {
     "ename": "ZeroDivisionError",
     "evalue": "division by zero",
     "output_type": "error",
     "traceback": [
      "\u001b[1;31m---------------------------------------------------------------------------\u001b[0m",
      "\u001b[1;31mZeroDivisionError\u001b[0m                         Traceback (most recent call last)",
      "Input \u001b[1;32mIn [25]\u001b[0m, in \u001b[0;36m<cell line: 3>\u001b[1;34m()\u001b[0m\n\u001b[0;32m      1\u001b[0m x\u001b[38;5;241m=\u001b[39m \u001b[38;5;241m4\u001b[39m\n\u001b[0;32m      2\u001b[0m y\u001b[38;5;241m=\u001b[39m \u001b[38;5;241m0\u001b[39m\n\u001b[1;32m----> 3\u001b[0m \u001b[38;5;28mprint\u001b[39m(\u001b[43mx\u001b[49m\u001b[38;5;241;43m/\u001b[39;49m\u001b[43my\u001b[49m)\n",
      "\u001b[1;31mZeroDivisionError\u001b[0m: division by zero"
     ]
    }
   ],
   "source": [
    "x= 4\n",
    "y= 0\n",
    "print(x/y)"
   ]
  },
  {
   "cell_type": "markdown",
   "id": "1fd8895b",
   "metadata": {},
   "source": [
    "# Type Error"
   ]
  },
  {
   "cell_type": "code",
   "execution_count": 27,
   "id": "0f5dc01d",
   "metadata": {},
   "outputs": [
    {
     "ename": "TypeError",
     "evalue": "unsupported operand type(s) for +: 'int' and 'str'",
     "output_type": "error",
     "traceback": [
      "\u001b[1;31m---------------------------------------------------------------------------\u001b[0m",
      "\u001b[1;31mTypeError\u001b[0m                                 Traceback (most recent call last)",
      "Input \u001b[1;32mIn [27]\u001b[0m, in \u001b[0;36m<cell line: 3>\u001b[1;34m()\u001b[0m\n\u001b[0;32m      1\u001b[0m a \u001b[38;5;241m=\u001b[39m \u001b[38;5;241m33\u001b[39m\n\u001b[0;32m      2\u001b[0m b \u001b[38;5;241m=\u001b[39m \u001b[38;5;124m\"\u001b[39m\u001b[38;5;124mShad\u001b[39m\u001b[38;5;124m\"\u001b[39m\n\u001b[1;32m----> 3\u001b[0m \u001b[38;5;28mprint\u001b[39m(\u001b[43ma\u001b[49m\u001b[38;5;241;43m+\u001b[39;49m\u001b[43mb\u001b[49m)\n",
      "\u001b[1;31mTypeError\u001b[0m: unsupported operand type(s) for +: 'int' and 'str'"
     ]
    }
   ],
   "source": [
    "a = 33\n",
    "b = \"Shad\"\n",
    "print(a+b)"
   ]
  },
  {
   "cell_type": "code",
   "execution_count": 28,
   "id": "645fef94",
   "metadata": {},
   "outputs": [
    {
     "ename": "TypeError",
     "evalue": "unsupported operand type(s) for +: 'int' and 'tuple'",
     "output_type": "error",
     "traceback": [
      "\u001b[1;31m---------------------------------------------------------------------------\u001b[0m",
      "\u001b[1;31mTypeError\u001b[0m                                 Traceback (most recent call last)",
      "Input \u001b[1;32mIn [28]\u001b[0m, in \u001b[0;36m<cell line: 1>\u001b[1;34m()\u001b[0m\n\u001b[1;32m----> 1\u001b[0m \u001b[38;5;241;43m2\u001b[39;49m\u001b[43m \u001b[49m\u001b[38;5;241;43m+\u001b[39;49m\u001b[43m \u001b[49m\u001b[43m(\u001b[49m\u001b[38;5;241;43m33\u001b[39;49m\u001b[43m,\u001b[49m\u001b[38;5;241;43m5\u001b[39;49m\u001b[43m,\u001b[49m\u001b[38;5;241;43m8\u001b[39;49m\u001b[43m)\u001b[49m\n",
      "\u001b[1;31mTypeError\u001b[0m: unsupported operand type(s) for +: 'int' and 'tuple'"
     ]
    }
   ],
   "source": [
    "2 + (33,5,8)"
   ]
  },
  {
   "cell_type": "code",
   "execution_count": 29,
   "id": "dfed5176",
   "metadata": {},
   "outputs": [
    {
     "ename": "TypeError",
     "evalue": "unsupported operand type(s) for +: 'int' and 'list'",
     "output_type": "error",
     "traceback": [
      "\u001b[1;31m---------------------------------------------------------------------------\u001b[0m",
      "\u001b[1;31mTypeError\u001b[0m                                 Traceback (most recent call last)",
      "Input \u001b[1;32mIn [29]\u001b[0m, in \u001b[0;36m<cell line: 1>\u001b[1;34m()\u001b[0m\n\u001b[1;32m----> 1\u001b[0m \u001b[38;5;241;43m2\u001b[39;49m\u001b[38;5;241;43m+\u001b[39;49m\u001b[43m[\u001b[49m\u001b[38;5;241;43m22\u001b[39;49m\u001b[43m,\u001b[49m\u001b[38;5;241;43m44\u001b[39;49m\u001b[43m]\u001b[49m\n",
      "\u001b[1;31mTypeError\u001b[0m: unsupported operand type(s) for +: 'int' and 'list'"
     ]
    }
   ],
   "source": [
    "2+[22,44]"
   ]
  },
  {
   "cell_type": "code",
   "execution_count": 30,
   "id": "1db21196",
   "metadata": {},
   "outputs": [
    {
     "ename": "ValueError",
     "evalue": "invalid literal for int() with base 10: 'shad'",
     "output_type": "error",
     "traceback": [
      "\u001b[1;31m---------------------------------------------------------------------------\u001b[0m",
      "\u001b[1;31mValueError\u001b[0m                                Traceback (most recent call last)",
      "Input \u001b[1;32mIn [30]\u001b[0m, in \u001b[0;36m<cell line: 1>\u001b[1;34m()\u001b[0m\n\u001b[1;32m----> 1\u001b[0m \u001b[38;5;28;43mint\u001b[39;49m\u001b[43m(\u001b[49m\u001b[38;5;124;43m\"\u001b[39;49m\u001b[38;5;124;43mshad\u001b[39;49m\u001b[38;5;124;43m\"\u001b[39;49m\u001b[43m)\u001b[49m\n",
      "\u001b[1;31mValueError\u001b[0m: invalid literal for int() with base 10: 'shad'"
     ]
    }
   ],
   "source": [
    "int(\"shad\")"
   ]
  },
  {
   "cell_type": "code",
   "execution_count": 31,
   "id": "2bfaddbd",
   "metadata": {},
   "outputs": [
    {
     "data": {
      "text/plain": [
       "44"
      ]
     },
     "execution_count": 31,
     "metadata": {},
     "output_type": "execute_result"
    }
   ],
   "source": [
    "int(float(44.2))"
   ]
  },
  {
   "cell_type": "code",
   "execution_count": 35,
   "id": "da7182d1",
   "metadata": {},
   "outputs": [
    {
     "ename": "ValueError",
     "evalue": "invalid literal for int() with base 10: '33.5'",
     "output_type": "error",
     "traceback": [
      "\u001b[1;31m---------------------------------------------------------------------------\u001b[0m",
      "\u001b[1;31mValueError\u001b[0m                                Traceback (most recent call last)",
      "Input \u001b[1;32mIn [35]\u001b[0m, in \u001b[0;36m<cell line: 1>\u001b[1;34m()\u001b[0m\n\u001b[1;32m----> 1\u001b[0m \u001b[38;5;28;43mint\u001b[39;49m\u001b[43m(\u001b[49m\u001b[38;5;124;43m\"\u001b[39;49m\u001b[38;5;124;43m33.5\u001b[39;49m\u001b[38;5;124;43m\"\u001b[39;49m\u001b[43m)\u001b[49m\n",
      "\u001b[1;31mValueError\u001b[0m: invalid literal for int() with base 10: '33.5'"
     ]
    }
   ],
   "source": [
    "int(\"33.5\")"
   ]
  },
  {
   "cell_type": "markdown",
   "id": "5195ca47",
   "metadata": {},
   "source": [
    "# File not found error"
   ]
  },
  {
   "cell_type": "code",
   "execution_count": 36,
   "id": "66e6ad12",
   "metadata": {},
   "outputs": [
    {
     "ename": "FileNotFoundError",
     "evalue": "[Errno 2] No such file or directory: 'stats.txt'",
     "output_type": "error",
     "traceback": [
      "\u001b[1;31m---------------------------------------------------------------------------\u001b[0m",
      "\u001b[1;31mFileNotFoundError\u001b[0m                         Traceback (most recent call last)",
      "Input \u001b[1;32mIn [36]\u001b[0m, in \u001b[0;36m<cell line: 1>\u001b[1;34m()\u001b[0m\n\u001b[1;32m----> 1\u001b[0m \u001b[38;5;28;43mopen\u001b[39;49m\u001b[43m(\u001b[49m\u001b[38;5;124;43m\"\u001b[39;49m\u001b[38;5;124;43mstats.txt\u001b[39;49m\u001b[38;5;124;43m\"\u001b[39;49m\u001b[43m)\u001b[49m\n",
      "\u001b[1;31mFileNotFoundError\u001b[0m: [Errno 2] No such file or directory: 'stats.txt'"
     ]
    }
   ],
   "source": [
    "open(\"stats.txt\")"
   ]
  },
  {
   "cell_type": "code",
   "execution_count": 34,
   "id": "c72b9f88",
   "metadata": {},
   "outputs": [
    {
     "ename": "FileNotFoundError",
     "evalue": "[Errno 2] No such file or directory: 'sample.txt'",
     "output_type": "error",
     "traceback": [
      "\u001b[1;31m---------------------------------------------------------------------------\u001b[0m",
      "\u001b[1;31mFileNotFoundError\u001b[0m                         Traceback (most recent call last)",
      "Input \u001b[1;32mIn [34]\u001b[0m, in \u001b[0;36m<cell line: 1>\u001b[1;34m()\u001b[0m\n\u001b[1;32m----> 1\u001b[0m \u001b[38;5;28;43mopen\u001b[39;49m\u001b[43m(\u001b[49m\u001b[38;5;124;43m\"\u001b[39;49m\u001b[38;5;124;43msample.txt\u001b[39;49m\u001b[38;5;124;43m\"\u001b[39;49m\u001b[43m)\u001b[49m\n",
      "\u001b[1;31mFileNotFoundError\u001b[0m: [Errno 2] No such file or directory: 'sample.txt'"
     ]
    }
   ],
   "source": [
    "open(\"sample.txt\")"
   ]
  },
  {
   "cell_type": "markdown",
   "id": "999d9989",
   "metadata": {},
   "source": [
    "# key Error"
   ]
  },
  {
   "cell_type": "code",
   "execution_count": 50,
   "id": "6a97e370",
   "metadata": {},
   "outputs": [
    {
     "ename": "KeyError",
     "evalue": "'edcation'",
     "output_type": "error",
     "traceback": [
      "\u001b[1;31m---------------------------------------------------------------------------\u001b[0m",
      "\u001b[1;31mKeyError\u001b[0m                                  Traceback (most recent call last)",
      "Input \u001b[1;32mIn [50]\u001b[0m, in \u001b[0;36m<cell line: 4>\u001b[1;34m()\u001b[0m\n\u001b[0;32m      1\u001b[0m a \u001b[38;5;241m=\u001b[39m {\u001b[38;5;124m\"\u001b[39m\u001b[38;5;124mname\u001b[39m\u001b[38;5;124m\"\u001b[39m: \u001b[38;5;124m\"\u001b[39m\u001b[38;5;124mSaad\u001b[39m\u001b[38;5;124m\"\u001b[39m,\n\u001b[0;32m      2\u001b[0m     \u001b[38;5;124m\"\u001b[39m\u001b[38;5;124mfname\u001b[39m\u001b[38;5;124m\"\u001b[39m: \u001b[38;5;124m\"\u001b[39m\u001b[38;5;124mKhuda bux\u001b[39m\u001b[38;5;124m\"\u001b[39m}\n\u001b[1;32m----> 4\u001b[0m \u001b[43ma\u001b[49m\u001b[43m[\u001b[49m\u001b[38;5;124;43m\"\u001b[39;49m\u001b[38;5;124;43medcation\u001b[39;49m\u001b[38;5;124;43m\"\u001b[39;49m\u001b[43m]\u001b[49m\n",
      "\u001b[1;31mKeyError\u001b[0m: 'edcation'"
     ]
    }
   ],
   "source": [
    "a = {\"name\": \"Saad\",\n",
    "    \"fname\": \"Khuda bux\"}\n",
    "\n",
    "a[\"edcation\"]"
   ]
  },
  {
   "cell_type": "code",
   "execution_count": 51,
   "id": "92a1f8ab",
   "metadata": {},
   "outputs": [
    {
     "ename": "KeyError",
     "evalue": "'smple'",
     "output_type": "error",
     "traceback": [
      "\u001b[1;31m---------------------------------------------------------------------------\u001b[0m",
      "\u001b[1;31mKeyError\u001b[0m                                  Traceback (most recent call last)",
      "Input \u001b[1;32mIn [51]\u001b[0m, in \u001b[0;36m<cell line: 3>\u001b[1;34m()\u001b[0m\n\u001b[0;32m      1\u001b[0m b\u001b[38;5;241m=\u001b[39m {\u001b[38;5;124m\"\u001b[39m\u001b[38;5;124moccupation\u001b[39m\u001b[38;5;124m\"\u001b[39m: \u001b[38;5;124m\"\u001b[39m\u001b[38;5;124munemployed\u001b[39m\u001b[38;5;124m\"\u001b[39m,\n\u001b[0;32m      2\u001b[0m    \u001b[38;5;124m\"\u001b[39m\u001b[38;5;124mqualification\u001b[39m\u001b[38;5;124m\"\u001b[39m: \u001b[38;5;124m\"\u001b[39m\u001b[38;5;124mM.A\u001b[39m\u001b[38;5;124m\"\u001b[39m}\n\u001b[1;32m----> 3\u001b[0m \u001b[43mb\u001b[49m\u001b[43m[\u001b[49m\u001b[38;5;124;43m\"\u001b[39;49m\u001b[38;5;124;43msmple\u001b[39;49m\u001b[38;5;124;43m\"\u001b[39;49m\u001b[43m]\u001b[49m\n",
      "\u001b[1;31mKeyError\u001b[0m: 'smple'"
     ]
    }
   ],
   "source": [
    "b= {\"occupation\": \"unemployed\",\n",
    "   \"qualification\": \"M.A\"}\n",
    "b[\"smple\"]"
   ]
  },
  {
   "cell_type": "markdown",
   "id": "4f18ba5b",
   "metadata": {},
   "source": [
    "\n",
    "# run time error and except attribute"
   ]
  },
  {
   "cell_type": "code",
   "execution_count": 52,
   "id": "99cd0ad1",
   "metadata": {},
   "outputs": [
    {
     "name": "stdout",
     "output_type": "stream",
     "text": [
      "ready!\n"
     ]
    },
    {
     "ename": "ZeroDivisionError",
     "evalue": "division by zero",
     "output_type": "error",
     "traceback": [
      "\u001b[1;31m---------------------------------------------------------------------------\u001b[0m",
      "\u001b[1;31mZeroDivisionError\u001b[0m                         Traceback (most recent call last)",
      "Input \u001b[1;32mIn [52]\u001b[0m, in \u001b[0;36m<cell line: 4>\u001b[1;34m()\u001b[0m\n\u001b[0;32m      2\u001b[0m a\u001b[38;5;241m=\u001b[39m \u001b[38;5;241m92\u001b[39m\n\u001b[0;32m      3\u001b[0m b\u001b[38;5;241m=\u001b[39m \u001b[38;5;241m0\u001b[39m\n\u001b[1;32m----> 4\u001b[0m \u001b[38;5;28mprint\u001b[39m(\u001b[43ma\u001b[49m\u001b[38;5;241;43m/\u001b[39;49m\u001b[43mb\u001b[49m)\n\u001b[0;32m      6\u001b[0m \u001b[38;5;28mprint\u001b[39m(\u001b[38;5;124m\"\u001b[39m\u001b[38;5;124mend\u001b[39m\u001b[38;5;124m\"\u001b[39m)\n",
      "\u001b[1;31mZeroDivisionError\u001b[0m: division by zero"
     ]
    }
   ],
   "source": [
    "print(\"ready!\")\n",
    "a= 92\n",
    "b= 0\n",
    "print(a/b)\n",
    "\n",
    "print(\"end\")"
   ]
  },
  {
   "cell_type": "code",
   "execution_count": 53,
   "id": "de59fefd",
   "metadata": {},
   "outputs": [
    {
     "name": "stdout",
     "output_type": "stream",
     "text": [
      "Start\n",
      "you cannot divide zero with ay value\n",
      "End\n"
     ]
    }
   ],
   "source": [
    "print(\"Start\")\n",
    "a = 56\n",
    "b = 0\n",
    "\n",
    "try:\n",
    "    print(a/b)\n",
    "\n",
    "except (ZeroDivisionError):\n",
    "    print(\"you cannot divide zero with ay value\")\n",
    "    \n",
    "print(\"End\")"
   ]
  },
  {
   "cell_type": "code",
   "execution_count": 54,
   "id": "a0d9d793",
   "metadata": {},
   "outputs": [
    {
     "name": "stdout",
     "output_type": "stream",
     "text": [
      "Start\n",
      "You wrote illogical values, int can't do addition with str\n",
      "Look at your code! you wrote something wrong thanks\n"
     ]
    }
   ],
   "source": [
    "print(\"Start\")\n",
    "a= 88\n",
    "b= \"Hello\"\n",
    "\n",
    "try:\n",
    "    print(a+b)\n",
    "except (TypeError):\n",
    "    print(\"You wrote illogical values, int can't do addition with str\")\n",
    "    \n",
    "print(\"Look at your code! you wrote something wrong thanks\")"
   ]
  },
  {
   "cell_type": "code",
   "execution_count": 55,
   "id": "5936f012",
   "metadata": {},
   "outputs": [
    {
     "name": "stdout",
     "output_type": "stream",
     "text": [
      "start\n",
      "Wrote Something Wrong\n",
      "Look at your code please!\n"
     ]
    }
   ],
   "source": [
    "print(\"start\")\n",
    "\n",
    "a= 94\n",
    "b= 0\n",
    "c= \"Hello\"\n",
    "try:\n",
    "    print(a/b)\n",
    "    l[8]\n",
    "    print(a+b+c)\n",
    "except (ZeroDivisionError,TypeError,FileNotFoundError):\n",
    "    print(\"Wrote Something Wrong\")\n",
    "    \n",
    "print(\"Look at your code please!\")"
   ]
  },
  {
   "cell_type": "code",
   "execution_count": 57,
   "id": "fa095dc7",
   "metadata": {},
   "outputs": [
    {
     "name": "stdout",
     "output_type": "stream",
     "text": [
      "start\n",
      "something wrong in your code ! division by zero\n",
      "Look back at your code\n"
     ]
    }
   ],
   "source": [
    "print(\"start\")\n",
    "a= 42\n",
    "b= 0\n",
    "try:\n",
    "    print(a/b)\n",
    "except Exception as e:\n",
    "    print(\"something wrong in your code !\", e)\n",
    "print(\"Look back at your code\")"
   ]
  },
  {
   "cell_type": "code",
   "execution_count": 58,
   "id": "c65cfa1f",
   "metadata": {},
   "outputs": [
    {
     "name": "stdout",
     "output_type": "stream",
     "text": [
      "start\n",
      "Something wrong ! list index out of range\n",
      "end\n"
     ]
    }
   ],
   "source": [
    "print(\"start\")\n",
    "l = [23,44,55,99]\n",
    "try:\n",
    "    l[6]\n",
    "except Exception as e:\n",
    "    print(\"Something wrong !\", e)\n",
    "    \n",
    "print(\"end\")"
   ]
  },
  {
   "cell_type": "code",
   "execution_count": 59,
   "id": "256ddfa2",
   "metadata": {},
   "outputs": [
    {
     "name": "stdout",
     "output_type": "stream",
     "text": [
      "start\n",
      "something wrong ! unsupported operand type(s) for +: 'int' and 'str'\n",
      "wrote wrong code/logic\n"
     ]
    }
   ],
   "source": [
    "print(\"start\")\n",
    "a = 33\n",
    "b = \"Shad\"\n",
    "try:\n",
    "    print(a+b)\n",
    "except Exception as e:\n",
    "    print(\"something wrong !\", e)\n",
    "\n",
    "print(\"wrote wrong code/logic\")"
   ]
  },
  {
   "cell_type": "code",
   "execution_count": 61,
   "id": "3d7f90c2",
   "metadata": {},
   "outputs": [
    {
     "name": "stdout",
     "output_type": "stream",
     "text": [
      "start\n",
      "Wrong Statement ! [Errno 2] No such file or directory: 'stat.txt'\n",
      "End\n"
     ]
    }
   ],
   "source": [
    "print(\"start\")\n",
    "try:\n",
    "    open(\"stat.txt\")\n",
    "    \n",
    "except Exception as e:\n",
    "    print(\"Wrong Statement !\", e)\n",
    "    \n",
    "print(\"End\")"
   ]
  },
  {
   "cell_type": "code",
   "execution_count": 63,
   "id": "7d1dda74",
   "metadata": {},
   "outputs": [
    {
     "name": "stdout",
     "output_type": "stream",
     "text": [
      "start\n",
      "something wrong in your code ! division by zero\n",
      "Look back at your code\n"
     ]
    }
   ],
   "source": [
    "print(\"start\")\n",
    "a= 42\n",
    "b= 0\n",
    "try:\n",
    "    print(a/b)\n",
    "except Exception as e:\n",
    "    print(\"something wrong in your code !\", e)\n",
    "else:\n",
    "    print(\"Oh Oh you made it !\")\n",
    "print(\"Look back at your code\")"
   ]
  },
  {
   "cell_type": "code",
   "execution_count": 65,
   "id": "c13504b3",
   "metadata": {},
   "outputs": [
    {
     "name": "stdout",
     "output_type": "stream",
     "text": [
      "start\n",
      "14.0\n",
      "Oh Oh you made it !\n"
     ]
    }
   ],
   "source": [
    "print(\"start\")\n",
    "a= 42\n",
    "b= 3\n",
    "try:\n",
    "    print(a/b)\n",
    "except Exception as e:\n",
    "    print(\"something wrong in your code !\", e)\n",
    "else:\n",
    "    print(\"Oh Oh you made it !\")\n"
   ]
  },
  {
   "cell_type": "code",
   "execution_count": 67,
   "id": "160f088a",
   "metadata": {},
   "outputs": [
    {
     "name": "stdout",
     "output_type": "stream",
     "text": [
      "start\n",
      "40.0\n",
      "Oh Oh you made it!\n",
      "Great\n",
      "Good Job!\n"
     ]
    }
   ],
   "source": [
    "print(\"start\")\n",
    "a= 80\n",
    "b= 2\n",
    "try:\n",
    "    print(a/b)\n",
    "except Exception as e:\n",
    "    print(\"something wrong in your code !\", e)\n",
    "else:\n",
    "    print(\"Oh Oh you made it!\")\n",
    "finally:\n",
    "    print(\"Great\")\n",
    "    \n",
    "print(\"Good Job!\")"
   ]
  },
  {
   "cell_type": "markdown",
   "id": "a4fff653",
   "metadata": {},
   "source": [
    "# Create own exception class"
   ]
  },
  {
   "cell_type": "code",
   "execution_count": 70,
   "id": "5cd6ac68",
   "metadata": {},
   "outputs": [
    {
     "name": "stdout",
     "output_type": "stream",
     "text": [
      "33\n",
      "Saad\n",
      "23\n"
     ]
    }
   ],
   "source": [
    "class info_card():\n",
    "    def __init__(self,rollno,name,age):\n",
    "        if age< 10 or age> 30:\n",
    "            raise Exception(\"Sorry less than 10 and greater than 30 not allowed!\")\n",
    "        self.rollno = rollno\n",
    "        self.name = name\n",
    "        self.age = age\n",
    "info1 = info_card(33,\"Saad\",23)\n",
    "print(info1.rollno)\n",
    "print(info1.name)\n",
    "print(info1.age)"
   ]
  },
  {
   "cell_type": "code",
   "execution_count": 71,
   "id": "9087cfed",
   "metadata": {},
   "outputs": [
    {
     "ename": "Exception",
     "evalue": "Sorry less than 10 and greater than 30 not allowed!",
     "output_type": "error",
     "traceback": [
      "\u001b[1;31m---------------------------------------------------------------------------\u001b[0m",
      "\u001b[1;31mException\u001b[0m                                 Traceback (most recent call last)",
      "Input \u001b[1;32mIn [71]\u001b[0m, in \u001b[0;36m<cell line: 1>\u001b[1;34m()\u001b[0m\n\u001b[1;32m----> 1\u001b[0m info2 \u001b[38;5;241m=\u001b[39m \u001b[43minfo_card\u001b[49m\u001b[43m(\u001b[49m\u001b[38;5;241;43m21\u001b[39;49m\u001b[43m,\u001b[49m\u001b[38;5;124;43m\"\u001b[39;49m\u001b[38;5;124;43mHaleem\u001b[39;49m\u001b[38;5;124;43m\"\u001b[39;49m\u001b[43m,\u001b[49m\u001b[38;5;241;43m34\u001b[39;49m\u001b[43m)\u001b[49m\n\u001b[0;32m      2\u001b[0m \u001b[38;5;28mprint\u001b[39m(info2\u001b[38;5;241m.\u001b[39mrollno)\n\u001b[0;32m      3\u001b[0m \u001b[38;5;28mprint\u001b[39m(info2\u001b[38;5;241m.\u001b[39mname)\n",
      "Input \u001b[1;32mIn [70]\u001b[0m, in \u001b[0;36minfo_card.__init__\u001b[1;34m(self, rollno, name, age)\u001b[0m\n\u001b[0;32m      2\u001b[0m \u001b[38;5;28;01mdef\u001b[39;00m \u001b[38;5;21m__init__\u001b[39m(\u001b[38;5;28mself\u001b[39m,rollno,name,age):\n\u001b[0;32m      3\u001b[0m     \u001b[38;5;28;01mif\u001b[39;00m age\u001b[38;5;241m<\u001b[39m \u001b[38;5;241m10\u001b[39m \u001b[38;5;129;01mor\u001b[39;00m age\u001b[38;5;241m>\u001b[39m \u001b[38;5;241m30\u001b[39m:\n\u001b[1;32m----> 4\u001b[0m         \u001b[38;5;28;01mraise\u001b[39;00m \u001b[38;5;167;01mException\u001b[39;00m(\u001b[38;5;124m\"\u001b[39m\u001b[38;5;124mSorry less than 10 and greater than 30 not allowed!\u001b[39m\u001b[38;5;124m\"\u001b[39m)\n\u001b[0;32m      5\u001b[0m     \u001b[38;5;28mself\u001b[39m\u001b[38;5;241m.\u001b[39mrollno \u001b[38;5;241m=\u001b[39m rollno\n\u001b[0;32m      6\u001b[0m     \u001b[38;5;28mself\u001b[39m\u001b[38;5;241m.\u001b[39mname \u001b[38;5;241m=\u001b[39m name\n",
      "\u001b[1;31mException\u001b[0m: Sorry less than 10 and greater than 30 not allowed!"
     ]
    }
   ],
   "source": [
    "info2 = info_card(21,\"Haleem\",34)\n",
    "print(info2.rollno)\n",
    "print(info2.name)\n",
    "print(info2.age)"
   ]
  },
  {
   "cell_type": "code",
   "execution_count": 74,
   "id": "f36ba233",
   "metadata": {},
   "outputs": [
    {
     "ename": "Exception",
     "evalue": "Sorry less than 10 and greater than 30 not allowed!",
     "output_type": "error",
     "traceback": [
      "\u001b[1;31m---------------------------------------------------------------------------\u001b[0m",
      "\u001b[1;31mException\u001b[0m                                 Traceback (most recent call last)",
      "Input \u001b[1;32mIn [74]\u001b[0m, in \u001b[0;36m<cell line: 1>\u001b[1;34m()\u001b[0m\n\u001b[1;32m----> 1\u001b[0m info3 \u001b[38;5;241m=\u001b[39m \u001b[43minfo_card\u001b[49m\u001b[43m(\u001b[49m\u001b[38;5;241;43m22\u001b[39;49m\u001b[43m,\u001b[49m\u001b[38;5;124;43m\"\u001b[39;49m\u001b[38;5;124;43mDahim\u001b[39;49m\u001b[38;5;124;43m\"\u001b[39;49m\u001b[43m,\u001b[49m\u001b[38;5;241;43m9\u001b[39;49m\u001b[43m)\u001b[49m\n",
      "Input \u001b[1;32mIn [70]\u001b[0m, in \u001b[0;36minfo_card.__init__\u001b[1;34m(self, rollno, name, age)\u001b[0m\n\u001b[0;32m      2\u001b[0m \u001b[38;5;28;01mdef\u001b[39;00m \u001b[38;5;21m__init__\u001b[39m(\u001b[38;5;28mself\u001b[39m,rollno,name,age):\n\u001b[0;32m      3\u001b[0m     \u001b[38;5;28;01mif\u001b[39;00m age\u001b[38;5;241m<\u001b[39m \u001b[38;5;241m10\u001b[39m \u001b[38;5;129;01mor\u001b[39;00m age\u001b[38;5;241m>\u001b[39m \u001b[38;5;241m30\u001b[39m:\n\u001b[1;32m----> 4\u001b[0m         \u001b[38;5;28;01mraise\u001b[39;00m \u001b[38;5;167;01mException\u001b[39;00m(\u001b[38;5;124m\"\u001b[39m\u001b[38;5;124mSorry less than 10 and greater than 30 not allowed!\u001b[39m\u001b[38;5;124m\"\u001b[39m)\n\u001b[0;32m      5\u001b[0m     \u001b[38;5;28mself\u001b[39m\u001b[38;5;241m.\u001b[39mrollno \u001b[38;5;241m=\u001b[39m rollno\n\u001b[0;32m      6\u001b[0m     \u001b[38;5;28mself\u001b[39m\u001b[38;5;241m.\u001b[39mname \u001b[38;5;241m=\u001b[39m name\n",
      "\u001b[1;31mException\u001b[0m: Sorry less than 10 and greater than 30 not allowed!"
     ]
    }
   ],
   "source": [
    "info3 = info_card(22,\"Dahim\",9)"
   ]
  },
  {
   "cell_type": "code",
   "execution_count": 75,
   "id": "7de81144",
   "metadata": {},
   "outputs": [
    {
     "name": "stdout",
     "output_type": "stream",
     "text": [
      "Sorry Something is wrong in this code! Sorry less than 10 and greater than 30 not allowed!\n"
     ]
    }
   ],
   "source": [
    "try:\n",
    "    info2= info_card(43,\"adeem\",35)\n",
    "except Exception as er:\n",
    "    print(\"Sorry Something is wrong in this code!\", er)"
   ]
  },
  {
   "cell_type": "code",
   "execution_count": 76,
   "id": "3ad5a448",
   "metadata": {},
   "outputs": [
    {
     "data": {
      "text/plain": [
       "datetime.datetime(2022, 9, 17, 14, 1, 48, 680037)"
      ]
     },
     "execution_count": 76,
     "metadata": {},
     "output_type": "execute_result"
    }
   ],
   "source": [
    "import datetime as dt\n",
    "dt.datetime.now()"
   ]
  },
  {
   "cell_type": "code",
   "execution_count": null,
   "id": "80fe760c",
   "metadata": {},
   "outputs": [],
   "source": []
  },
  {
   "cell_type": "code",
   "execution_count": null,
   "id": "a208edfb",
   "metadata": {},
   "outputs": [],
   "source": []
  },
  {
   "cell_type": "code",
   "execution_count": null,
   "id": "f28b6354",
   "metadata": {},
   "outputs": [],
   "source": []
  },
  {
   "cell_type": "code",
   "execution_count": null,
   "id": "7a119b64",
   "metadata": {},
   "outputs": [],
   "source": []
  },
  {
   "cell_type": "code",
   "execution_count": null,
   "id": "aee83d8b",
   "metadata": {},
   "outputs": [],
   "source": []
  }
 ],
 "metadata": {
  "kernelspec": {
   "display_name": "Python 3 (ipykernel)",
   "language": "python",
   "name": "python3"
  },
  "language_info": {
   "codemirror_mode": {
    "name": "ipython",
    "version": 3
   },
   "file_extension": ".py",
   "mimetype": "text/x-python",
   "name": "python",
   "nbconvert_exporter": "python",
   "pygments_lexer": "ipython3",
   "version": "3.9.12"
  }
 },
 "nbformat": 4,
 "nbformat_minor": 5
}
